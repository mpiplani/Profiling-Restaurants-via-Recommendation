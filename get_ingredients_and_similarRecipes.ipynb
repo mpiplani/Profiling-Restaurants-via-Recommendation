{
 "cells": [
  {
   "cell_type": "code",
   "execution_count": 56,
   "metadata": {},
   "outputs": [],
   "source": [
    "import numpy as np\n",
    "import pandas as pd\n",
    "import matplotlib.pyplot as plt\n",
    "import copy\n",
    "import pickle as pkl\n",
    "import itertools\n",
    "from difflib import SequenceMatcher\n",
    "from difflib import get_close_matches\n",
    "from fuzzywuzzy import fuzz\n",
    "from fuzzywuzzy import process"
   ]
  },
  {
   "cell_type": "code",
   "execution_count": 57,
   "metadata": {},
   "outputs": [],
   "source": [
    "mehakInput_List1 = [['Burgers, Mocktails, Pasta, Cocktails, Beef Steak, Lunch Buffet, Chicken Steak'], ['Kamikaze, Long Island Iced Tea, Pizza, Hefeweizen, Cocktails, Belgian Brew Beer, Chicken Bbq Wings']]\n",
    "mehakInput_List2 = [['English Breakfast, Sandwiches, Chicken Burger, Pasta, Veg Burger, Chicken Sausages'], ['English Breakfast, French Fries, Burgers, Pancakes, Corn Sandwich, Chicken Burger, Bacon Fry']]\n",
    "mehakInput_List3 = [['Masala Fries, Chicken Wings, Beer, Onion Rings, Pizza, Nachos']]"
   ]
  },
  {
   "cell_type": "code",
   "execution_count": 58,
   "metadata": {},
   "outputs": [],
   "source": [
    "def getMaxMatch(nameList,inputList,count,finalProcessedRecipeNameAndIngredients):\n",
    "\n",
    "    x = 0\n",
    "    result = dict()\n",
    "    for i in nameList:\n",
    "\n",
    "        similar_sentence = None\n",
    "        similar_sentence_index = -1\n",
    "        similar_sentence = process.extractOne(i,inputList,scorer=fuzz.partial_token_sort_ratio)\n",
    "\n",
    "        if similar_sentence is not None:\n",
    "            similar_sentence_ingredients = finalProcessedRecipeNameAndIngredients[similar_sentence[0]]\n",
    "            result[similar_sentence[0]] = similar_sentence_ingredients\n",
    "            print(\"******************\")\n",
    "            print(similar_sentence)\n",
    "            print(\"This is similiar to original sentence \")\n",
    "            print(\"original sentence\")\n",
    "            print(i)\n",
    "            print(\"It's ingredients are\")\n",
    "            print(similar_sentence_ingredients)\n",
    "            print(\"******************** \\n\")\n",
    "            x += 1\n",
    "            if x == count:\n",
    "                break\n",
    "    return result"
   ]
  },
  {
   "cell_type": "code",
   "execution_count": 59,
   "metadata": {},
   "outputs": [],
   "source": [
    "def getTokens(mehakOutput):\n",
    "    mehakOutputTokens = []\n",
    "\n",
    "    for i in range(len(mehakOutput)):\n",
    "        a = mehakOutput[i][0].split(', ')\n",
    "        mehakOutputTokens = mehakOutputTokens + a\n",
    "\n",
    "    return mehakOutputTokens"
   ]
  },
  {
   "cell_type": "code",
   "execution_count": 60,
   "metadata": {},
   "outputs": [],
   "source": [
    "recipes_RAW = pd.read_csv(\"RAW_recipes.csv\")\n",
    "recipes_RAW = recipes_RAW.rename({\"id\": \"recipe_id\"}, axis=1)\n",
    "\n",
    "recipes_RAW_name = recipes_RAW[\"name\"]\n",
    "recipes_RAW_name = [str(i) for i in recipes_RAW_name]\n",
    "\n",
    "recipes_RAW_ingredients = recipes_RAW[\"ingredients\"]\n",
    "recipes_RAW_ingredients = [str(i) for i in recipes_RAW_ingredients]"
   ]
  },
  {
   "cell_type": "code",
   "execution_count": 61,
   "metadata": {},
   "outputs": [
    {
     "name": "stdout",
     "output_type": "stream",
     "text": [
      "arriba   baked winter squash mexican style\n",
      "*************\n",
      "['winter squash', 'mexican seasoning', 'mixed spice', 'honey', 'butter', 'olive oil', 'salt']\n"
     ]
    }
   ],
   "source": [
    "finalProcessedRecipeNameAndIngredients = dict()\n",
    "for i in range(len(recipes_RAW_name)):\n",
    "    temp = recipes_RAW_name[i]\n",
    "    finalProcessedRecipeNameAndIngredients[temp] = recipes_RAW_ingredients[i]\n",
    "    \n",
    "for key in finalProcessedRecipeNameAndIngredients.keys():\n",
    "    print(key)\n",
    "    print(\"*************\")\n",
    "    print(finalProcessedRecipeNameAndIngredients[key])\n",
    "    break"
   ]
  },
  {
   "cell_type": "code",
   "execution_count": 62,
   "metadata": {},
   "outputs": [],
   "source": [
    "mehakInput_List1_Tokens = getTokens(mehakInput_List1)\n",
    "count_List1 = 2\n",
    "mehakInput_List2_Tokens = getTokens(mehakInput_List2)\n",
    "count_List2 = 2\n",
    "mehakInput_List3_Tokens = getTokens(mehakInput_List3)\n",
    "count_List3= 1"
   ]
  },
  {
   "cell_type": "code",
   "execution_count": 63,
   "metadata": {},
   "outputs": [
    {
     "name": "stdout",
     "output_type": "stream",
     "text": [
      "******************\n",
      "('grilled  venison burgers', 100)\n",
      "This is similiar to original sentence \n",
      "original sentence\n",
      "Burgers\n",
      "It's ingredients are\n",
      "['ground venison', 'egg substitute', 'non-fat powdered milk', 'water', 'fresh breadcrumb', 'onion', 'salt', 'black pepper', 'dry mustard', 'worcestershire sauce']\n",
      "******************** \n",
      "\n",
      "******************\n",
      "('grandparent mocktails  1 and  2  non alcoholic', 100)\n",
      "This is similiar to original sentence \n",
      "original sentence\n",
      "Mocktails\n",
      "It's ingredients are\n",
      "['cola', 'grenadine', 'orange slice', 'maraschino cherry', 'frozen orange juice concentrate', 'milk', 'water', 'sugar', 'vanilla']\n",
      "******************** \n",
      "\n",
      "******************\n",
      "('breakfast apple english muffin rounds', 100)\n",
      "This is similiar to original sentence \n",
      "original sentence\n",
      "English Breakfast\n",
      "It's ingredients are\n",
      "['peanut butter', 'english muffins', 'red apple', 'brown sugar', 'butter', 'cinnamon']\n",
      "******************** \n",
      "\n",
      "******************\n",
      "('geebee special  sandwiches', 100)\n",
      "This is similiar to original sentence \n",
      "original sentence\n",
      "Sandwiches\n",
      "It's ingredients are\n",
      "['ham', 'american cheese', 'sweet pickle relish', 'ketchup', 'hamburger buns']\n",
      "******************** \n",
      "\n",
      "******************\n",
      "('salad', 89)\n",
      "This is similiar to original sentence \n",
      "original sentence\n",
      "Masala Fries\n",
      "It's ingredients are\n",
      "['iceberg lettuce', 'tomatoes', 'cucumber', 'sunflower seeds', 'crouton']\n",
      "******************** \n",
      "\n",
      "{'grilled  venison burgers': \"['ground venison', 'egg substitute', 'non-fat powdered milk', 'water', 'fresh breadcrumb', 'onion', 'salt', 'black pepper', 'dry mustard', 'worcestershire sauce']\", 'grandparent mocktails  1 and  2  non alcoholic': \"['cola', 'grenadine', 'orange slice', 'maraschino cherry', 'frozen orange juice concentrate', 'milk', 'water', 'sugar', 'vanilla']\"}\n",
      "{'breakfast apple english muffin rounds': \"['peanut butter', 'english muffins', 'red apple', 'brown sugar', 'butter', 'cinnamon']\", 'geebee special  sandwiches': \"['ham', 'american cheese', 'sweet pickle relish', 'ketchup', 'hamburger buns']\"}\n",
      "{'salad': \"['iceberg lettuce', 'tomatoes', 'cucumber', 'sunflower seeds', 'crouton']\"}\n"
     ]
    }
   ],
   "source": [
    "result_List1 = getMaxMatch(mehakInput_List1_Tokens,recipes_RAW_name,count_List1,finalProcessedRecipeNameAndIngredients)\n",
    "result_List2 = getMaxMatch(mehakInput_List2_Tokens,recipes_RAW_name,count_List2,finalProcessedRecipeNameAndIngredients)\n",
    "result_List3 = getMaxMatch(mehakInput_List3_Tokens,recipes_RAW_name,count_List3,finalProcessedRecipeNameAndIngredients)\n",
    "\n",
    "print(result_List1)\n",
    "print(result_List2)\n",
    "print(result_List3)"
   ]
  },
  {
   "cell_type": "code",
   "execution_count": 64,
   "metadata": {},
   "outputs": [
    {
     "name": "stdout",
     "output_type": "stream",
     "text": [
      "{'breakfast apple english muffin rounds', 'grandparent mocktails  1 and  2  non alcoholic', 'geebee special  sandwiches', 'grilled  venison burgers', 'salad'}\n",
      "**********\n",
      "{\"'salt'\", \"'fresh breadcrumb'\", \"'maraschino cherry'\", \"'grenadine'\", \"'tomatoes'\", \"'milk'\", \"'ketchup'\", \"'worcestershire sauce'\", \"'non-fat powdered milk'\", \"'dry mustard'\", \"'onion'\", \"'frozen orange juice concentrate'\", \"'english muffins'\", \"'crouton'\", \"'american cheese'\", \"'sugar'\", \"'cucumber'\", \"'ground venison'\", \"'peanut butter'\", \"'butter'\", \"'hamburger buns'\", \"'orange slice'\", \"'ham'\", \"'vanilla'\", \"'red apple'\", \"'sweet pickle relish'\", \"'cinnamon'\", \"'iceberg lettuce'\", \"'egg substitute'\", \"'cola'\", \"'brown sugar'\", \"'sunflower seeds'\", \"'water'\", \"'black pepper'\"}\n"
     ]
    }
   ],
   "source": [
    "resultRecipe = set()\n",
    "resultIngredients = set()\n",
    "\n",
    "for key, value in result_List1.items():\n",
    "    resultRecipe.add(key)\n",
    "    value = value[1:]\n",
    "    value = value[:-1]\n",
    "    temp = value.split(', ')\n",
    "    resultIngredients.update(temp)\n",
    "        \n",
    "for key, value in result_List2.items():\n",
    "    resultRecipe.add(key)\n",
    "    value = value[1:]\n",
    "    value = value[:-1]\n",
    "    temp = value.split(', ')\n",
    "    resultIngredients.update(temp)\n",
    "        \n",
    "for key, value in result_List3.items():\n",
    "    resultRecipe.add(key)\n",
    "    value = value[1:]\n",
    "    value = value[:-1]\n",
    "    temp = value.split(', ')\n",
    "    resultIngredients.update(temp)\n",
    "\n",
    "print(resultRecipe)\n",
    "print(\"**********\")\n",
    "print(resultIngredients)"
   ]
  },
  {
   "cell_type": "code",
   "execution_count": 73,
   "metadata": {},
   "outputs": [],
   "source": [
    "similarDishes = dict()\n",
    "x = 0\n",
    "for i in range(len(recipes_RAW_ingredients)):\n",
    "    if recipes_RAW_name[i] not in resultRecipe:\n",
    "        value = recipes_RAW_ingredients[i][1:]\n",
    "        value = value[:-1]\n",
    "        temp = value.split(', ')\n",
    "        temp = set(temp)\n",
    "        if temp.issubset(resultIngredients):\n",
    "            similarDishes[recipes_RAW_name[i]] = recipes_RAW_ingredients[i]\n",
    "            resultRecipe.add(recipes_RAW_name[i])\n",
    "            x += 1\n",
    "            if x == 5:\n",
    "                break"
   ]
  },
  {
   "cell_type": "code",
   "execution_count": 74,
   "metadata": {},
   "outputs": [
    {
     "name": "stdout",
     "output_type": "stream",
     "text": [
      "{'peggy s hot peanut butter topping for ice cream': \"['peanut butter', 'brown sugar']\", 'pork roll   cheese sandwiches': \"['ham', 'american cheese', 'hamburger buns']\", 'roasted salted sunflower seed': \"['sunflower seeds', 'water', 'salt']\", 'roy rogers': \"['grenadine', 'cola', 'maraschino cherry', 'orange slice']\", 'salted boiling water   what does it mean': \"['water', 'salt']\"}\n"
     ]
    }
   ],
   "source": [
    "print(similarDishes)"
   ]
  },
  {
   "cell_type": "code",
   "execution_count": null,
   "metadata": {},
   "outputs": [],
   "source": []
  }
 ],
 "metadata": {
  "kernelspec": {
   "display_name": "Python 3",
   "language": "python",
   "name": "python3"
  },
  "language_info": {
   "codemirror_mode": {
    "name": "ipython",
    "version": 3
   },
   "file_extension": ".py",
   "mimetype": "text/x-python",
   "name": "python",
   "nbconvert_exporter": "python",
   "pygments_lexer": "ipython3",
   "version": "3.6.9"
  }
 },
 "nbformat": 4,
 "nbformat_minor": 4
}
